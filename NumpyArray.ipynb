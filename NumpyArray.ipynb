{
  "nbformat": 4,
  "nbformat_minor": 0,
  "metadata": {
    "colab": {
      "provenance": [],
      "authorship_tag": "ABX9TyP4gyOhdwcS8h8raQlivgHF",
      "include_colab_link": true
    },
    "kernelspec": {
      "name": "python3",
      "display_name": "Python 3"
    },
    "language_info": {
      "name": "python"
    }
  },
  "cells": [
    {
      "cell_type": "markdown",
      "metadata": {
        "id": "view-in-github",
        "colab_type": "text"
      },
      "source": [
        "<a href=\"https://colab.research.google.com/github/VietHoangg03/Machine_Learning_Basic/blob/main/NumpyArray.ipynb\" target=\"_parent\"><img src=\"https://colab.research.google.com/assets/colab-badge.svg\" alt=\"Open In Colab\"/></a>"
      ]
    },
    {
      "cell_type": "markdown",
      "source": [
        "# Learn Numpy Array"
      ],
      "metadata": {
        "id": "XnTV3_cn-U1q"
      }
    },
    {
      "cell_type": "markdown",
      "source": [
        "List vs NumPy Array\n",
        "Đối tượng đang tìm hiểu là Array\n",
        "Vector biểu diễn không gian 2 chiều hay 3 chiều => Array biểu diễn vector. Array để lưu trữ hay lưu trữ không gian nhiều chiều như ảnh 2 chiều, ảnh RGB 3 chiều.\n",
        "\n",
        "NumPy Array nó cũng lưu chữ các item, nhưng các phần tử nó giống nhau về loại."
      ],
      "metadata": {
        "id": "3iRTRhv9-pJt"
      }
    },
    {
      "cell_type": "code",
      "source": [
        "# Ví dụ List chứa nhiều kiểu dữ liệu trong lst\n",
        "lst = [\"AOI\", 2025, 3.14, -1, True, [1,2,3]]\n",
        "print(lst)"
      ],
      "metadata": {
        "colab": {
          "base_uri": "https://localhost:8080/"
        },
        "id": "bJclholW-gfj",
        "outputId": "b608a4b7-98f0-4e07-d318-0bbf40baf8a1"
      },
      "execution_count": null,
      "outputs": [
        {
          "output_type": "stream",
          "name": "stdout",
          "text": [
            "['AOI', 2025, 3.14, -1, True, [1, 2, 3]]\n"
          ]
        }
      ]
    },
    {
      "cell_type": "code",
      "source": [
        "n=5\n",
        "lst_zeros = [0]*n\n",
        "print(lst_zeros) #cách tạo list"
      ],
      "metadata": {
        "colab": {
          "base_uri": "https://localhost:8080/"
        },
        "id": "s_ReTTGx_YYf",
        "outputId": "57be4d2f-1cfe-423e-89a5-a33f88262b74"
      },
      "execution_count": null,
      "outputs": [
        {
          "output_type": "stream",
          "name": "stdout",
          "text": [
            "[0, 0, 0, 0, 0]\n"
          ]
        }
      ]
    },
    {
      "cell_type": "code",
      "source": [
        "#Tạo list Numpy\n",
        "\n",
        "import numpy as np\n",
        "arr = np.array([1, 2, 3, 4])\n",
        "print(arr)\n",
        "print(arr[3])"
      ],
      "metadata": {
        "colab": {
          "base_uri": "https://localhost:8080/"
        },
        "id": "QKvCbZpW_f6U",
        "outputId": "db44415e-9e64-4120-e4df-8a176548641d"
      },
      "execution_count": null,
      "outputs": [
        {
          "output_type": "stream",
          "name": "stdout",
          "text": [
            "[1 2 3 4]\n",
            "4\n"
          ]
        }
      ]
    },
    {
      "cell_type": "code",
      "source": [
        "# Tạo list Numpy bằng zero\n",
        "n=5\n",
        "arr_zeros = np.zeros(n)\n",
        "print(arr_zeros)"
      ],
      "metadata": {
        "colab": {
          "base_uri": "https://localhost:8080/"
        },
        "id": "s3B4_l35_tyX",
        "outputId": "bee9ee6f-d026-48ac-d316-950697339a5b"
      },
      "execution_count": null,
      "outputs": [
        {
          "output_type": "stream",
          "name": "stdout",
          "text": [
            "[0. 0. 0. 0. 0.]\n"
          ]
        }
      ]
    },
    {
      "cell_type": "code",
      "source": [
        "# Tạo list Numpy bằng list cùng kiểu\n",
        "# Nếu list khác kiểu sẽ không tạo được bằng list\n",
        "lst = [2, 3, 5]\n",
        "arr_from_lst = np.array(lst)\n",
        "print(arr_from_lst)"
      ],
      "metadata": {
        "colab": {
          "base_uri": "https://localhost:8080/"
        },
        "id": "HBO6h2MW_8hl",
        "outputId": "3964f3ce-a1b4-49d0-e610-60e1ea957599"
      },
      "execution_count": null,
      "outputs": [
        {
          "output_type": "stream",
          "name": "stdout",
          "text": [
            "[2 3 5]\n"
          ]
        }
      ]
    },
    {
      "cell_type": "code",
      "source": [
        "a_data = np.array([4,5,6,7,8,9,10,11,12,13,14,15,16])\n",
        "\n",
        "print(a_data[1]) #1\n",
        "print(a_data[-4]) #6\n",
        "\n",
        "print(a_data[0:6:2]) #start=5, end=9, step=2\n",
        "print(a_data[:7])\n",
        "print(a_data[7:])\n",
        "print(a_data[::2])"
      ],
      "metadata": {
        "colab": {
          "base_uri": "https://localhost:8080/"
        },
        "id": "veyZND_kAXpF",
        "outputId": "5384d886-d49b-4c46-862a-585661701d96"
      },
      "execution_count": null,
      "outputs": [
        {
          "output_type": "stream",
          "name": "stdout",
          "text": [
            "5\n",
            "13\n",
            "[4 6 8]\n",
            "[ 4  5  6  7  8  9 10]\n",
            "[11 12 13 14 15 16]\n",
            "[ 4  6  8 10 12 14 16]\n"
          ]
        }
      ]
    },
    {
      "cell_type": "code",
      "source": [
        "# Hàm append\n",
        "# Với list thì cú pháp: list.append\n",
        "# Với numpy thì cú pháp là: np.append(a_data, 0)\n",
        "a_data = np.array([4,5,6,7,8,9,10,11,12,13,14,15,16])\n",
        "a_data = np.append(a_data,0)\n",
        "print(a_data)\n",
        "\n",
        "a_data[1] = 2\n",
        "print(a_data)\n",
        "\n",
        "a_data = np.append(a_data, [2,5])\n",
        "print(a_data)"
      ],
      "metadata": {
        "colab": {
          "base_uri": "https://localhost:8080/"
        },
        "id": "TyQL4-iLCFlj",
        "outputId": "b68f8be2-6cb7-4823-977b-fc7075c07c97"
      },
      "execution_count": null,
      "outputs": [
        {
          "output_type": "stream",
          "name": "stdout",
          "text": [
            "[ 4  5  6  7  8  9 10 11 12 13 14 15 16  0]\n",
            "[ 4  2  6  7  8  9 10 11 12 13 14 15 16  0]\n",
            "[ 4  2  6  7  8  9 10 11 12 13 14 15 16  0  2  5]\n"
          ]
        }
      ]
    },
    {
      "cell_type": "code",
      "source": [
        "lst = [1, 2, 3]\n",
        "\n",
        "def add_list(lst, a): #inplace\n",
        "  lst = lst + [a]\n",
        "  return lst\n",
        "\n",
        "add_list(lst, 10) #Không có lst hứng nên không thay đổi lst gốc\n",
        "print(lst)\n",
        "\n",
        "lst = add_list(lst,10) # Đã hứng kết quả nên thay đổi\n",
        "print(lst)\n",
        "\n",
        "\n",
        "#Non inplace\n",
        "def add_list2(lst, a):\n",
        "  lst[len(lst):] = [a] #t\n",
        "\n",
        "add_list2(lst, 10)\n",
        "print(lst)\n",
        "\n",
        "\n",
        "\n",
        "\n",
        "\n",
        "# Cộng list\n",
        "lst1 = [1,2,3]\n",
        "lst2 = [4,5,6]\n",
        "print(lst1+lst2)\n",
        "\n",
        "# Nhân list\n",
        "lst1 = lst1*3\n",
        "print(lst1)"
      ],
      "metadata": {
        "colab": {
          "base_uri": "https://localhost:8080/"
        },
        "id": "PXV0Wr3BEeei",
        "outputId": "49cb896e-b695-4a8b-a156-96f523d28360"
      },
      "execution_count": null,
      "outputs": [
        {
          "output_type": "stream",
          "name": "stdout",
          "text": [
            "[1, 2, 3]\n",
            "[1, 2, 3, 10]\n",
            "[1, 2, 3, 10, 10]\n",
            "[1, 2, 3, 4, 5, 6]\n",
            "[1, 2, 3, 1, 2, 3, 1, 2, 3]\n"
          ]
        }
      ]
    },
    {
      "cell_type": "code",
      "source": [
        "#Sorting\n",
        "arr=np.array([2,3,8,4,5,9,10,22,15])\n",
        "\n",
        "arr.sort()\n",
        "print(arr)\n",
        "\n",
        "arr.sort()\n",
        "arr = arr[::-1]\n",
        "print(arr)"
      ],
      "metadata": {
        "colab": {
          "base_uri": "https://localhost:8080/"
        },
        "id": "Odt2xQqoJLB2",
        "outputId": "ce8cbd16-94da-484c-8644-3a4d2bceee29"
      },
      "execution_count": 64,
      "outputs": [
        {
          "output_type": "stream",
          "name": "stdout",
          "text": [
            "[ 2  3  4  5  8  9 10 15 22]\n",
            "[22 15 10  9  8  5  4  3  2]\n"
          ]
        }
      ]
    },
    {
      "cell_type": "code",
      "source": [
        "# delete, pop, remove\n",
        "arr = np.array([2,3,8,4,5,9,10,22,15])\n",
        "arr = np.delete(arr, 2) #Xoá 8\n",
        "print(arr)\n",
        "\n",
        "# Tìm vị trí để xoá\n",
        "del_indice = np.where(arr == 9)\n",
        "del_indice\n",
        "\n",
        "arr = np.delete(arr, del_indice)\n",
        "print(arr)\n",
        "\n",
        "\n",
        "# Bỏ các phần tử của nhiều index\n",
        "arr = np.delete(arr, np.arange(1,3))\n",
        "print(arr)\n",
        "\n",
        "# Dùng concate để bỏ\n",
        "arr = np.array([2,3,8,4,5,9,10,22,15])\n",
        "arr = np.concatenate([arr[:1], arr[3:]])\n",
        "print(arr)\n",
        "\n",
        "\n",
        "arr = np.array([2,3,8,4,5,9,10,22, 5,15])\n",
        "print(np.where(arr == 5))"
      ],
      "metadata": {
        "colab": {
          "base_uri": "https://localhost:8080/"
        },
        "id": "KJ_cpiVBL9yf",
        "outputId": "b98ff433-669b-4dbc-9f8c-daefdf420b99"
      },
      "execution_count": 81,
      "outputs": [
        {
          "output_type": "stream",
          "name": "stdout",
          "text": [
            "[ 2  3  4  5  9 10 22 15]\n",
            "[ 2  3  4  5 10 22 15]\n",
            "[ 2  5 10 22 15]\n",
            "[ 2  4  5  9 10 22 15]\n",
            "(array([4, 8]),)\n"
          ]
        }
      ]
    },
    {
      "cell_type": "code",
      "source": [
        "x = np.array([1,2,3])\n",
        "y = x\n",
        "\n",
        "y[-1] = 1000 # Nó là view thôi nếu thay đổi y thì sẽ thay đổi cả x\n",
        "\n",
        "print(x)\n",
        "print(y)"
      ],
      "metadata": {
        "colab": {
          "base_uri": "https://localhost:8080/"
        },
        "id": "lBPoySSXQMcY",
        "outputId": "c607c3d0-f111-40b2-9b4b-07d2d249d41e"
      },
      "execution_count": 82,
      "outputs": [
        {
          "output_type": "stream",
          "name": "stdout",
          "text": [
            "[   1    2 1000]\n",
            "[   1    2 1000]\n"
          ]
        }
      ]
    },
    {
      "cell_type": "code",
      "source": [
        "arr = np.array([2,3,8,4,5,9,10,22, 5,15])\n",
        "\n",
        "arr == 5\n",
        "\n",
        "np.sum(arr == 5) #Kiểm tra xem có bao nhiêu phần tử 5\n",
        "\n",
        "print(len(arr))\n",
        "print(np.min(arr))\n",
        "print(np.max(arr))\n",
        "print(arr.shape)"
      ],
      "metadata": {
        "colab": {
          "base_uri": "https://localhost:8080/"
        },
        "id": "yzBx6NrQQrYE",
        "outputId": "dbaa9da2-8923-4951-d01d-44441cde3e13"
      },
      "execution_count": 86,
      "outputs": [
        {
          "output_type": "stream",
          "name": "stdout",
          "text": [
            "10\n",
            "2\n",
            "22\n",
            "(10,)\n"
          ]
        }
      ]
    },
    {
      "cell_type": "code",
      "source": [
        "# Hàm zip\n",
        "l1 = [1, 3, 4]\n",
        "l2 = [3, 4, 5]\n",
        "\n",
        "for i,j in zip(l1, l2):\n",
        "  print(i,j)\n",
        "\n",
        "\n",
        "# Hàm zip trong numpy không có nên sẽ dùng Zip-like dstack\n",
        "l3 = np.array([1, 3, 4])\n",
        "l4 = np.array([4, 5, 6])\n",
        "\n",
        "zip_arr = np.dstack((l3,l4))\n",
        "\n",
        "for i in zip_arr[0]:\n",
        "  print(i)\n",
        "\n",
        "  # => Dùng zip sẽ tiện hơn"
      ],
      "metadata": {
        "colab": {
          "base_uri": "https://localhost:8080/"
        },
        "id": "h4-Ak3KzRdBf",
        "outputId": "f518f99f-23a7-4b14-e43a-361516335495"
      },
      "execution_count": 92,
      "outputs": [
        {
          "output_type": "stream",
          "name": "stdout",
          "text": [
            "1 3\n",
            "3 4\n",
            "4 5\n",
            "[1 4]\n",
            "[3 5]\n",
            "[4 6]\n"
          ]
        }
      ]
    },
    {
      "cell_type": "code",
      "source": [
        "#List enumerate\n",
        "data = [1,4,5]\n",
        "length = len(data)\n",
        "for index in range(length):\n",
        "  print(index, data[index]) # In ra index và giá trị\n",
        "\n",
        "\n",
        "\n",
        "# Đối với array\n",
        "arr = np.array([1, 3, 4])\n",
        "np.ndenumerate(arr)\n",
        "\n",
        "for index, value in np.ndenumerate(arr):\n",
        "  print(index, value)"
      ],
      "metadata": {
        "colab": {
          "base_uri": "https://localhost:8080/"
        },
        "id": "sMBaOkYOSifH",
        "outputId": "886ce9c4-97f1-43de-e71d-d84cd2a9ada0"
      },
      "execution_count": 94,
      "outputs": [
        {
          "output_type": "stream",
          "name": "stdout",
          "text": [
            "0 1\n",
            "1 4\n",
            "2 5\n",
            "(0,) 1\n",
            "(1,) 3\n",
            "(2,) 4\n"
          ]
        }
      ]
    },
    {
      "cell_type": "code",
      "source": [
        "arr = np.array([2,3,8,4,5,9,10,22, 5,15])\n",
        "\n",
        "arr % 2 == 0\n",
        "\n",
        "print(np.sum(arr[arr % 2 == 0])) # Tổng phần tử chia hết cho 2\n",
        "\n",
        "even_arr = arr[arr % 2 == 0]\n",
        "print(even_arr)\n"
      ],
      "metadata": {
        "colab": {
          "base_uri": "https://localhost:8080/"
        },
        "id": "0PYftVUQTDFI",
        "outputId": "61d43b57-9df6-4be4-f1ed-435e19aa9586"
      },
      "execution_count": 98,
      "outputs": [
        {
          "output_type": "stream",
          "name": "stdout",
          "text": [
            "46\n",
            "[ 2  8  4 10 22]\n"
          ]
        }
      ]
    },
    {
      "cell_type": "code",
      "source": [
        "array_2d = np.array([\n",
        "    [1, 2, 3],\n",
        "    [4, 5, 6],\n",
        "    [7, 8, 9]\n",
        "])\n",
        "\n",
        "print(array_2d.shape)"
      ],
      "metadata": {
        "colab": {
          "base_uri": "https://localhost:8080/"
        },
        "id": "JopDFnScVzVY",
        "outputId": "d29be2e9-b915-4317-e563-c7abe1e41a8c"
      },
      "execution_count": 99,
      "outputs": [
        {
          "output_type": "stream",
          "name": "stdout",
          "text": [
            "(3, 3)\n"
          ]
        }
      ]
    },
    {
      "cell_type": "code",
      "source": [
        "print(array_2d[1,1])\n",
        "print(array_2d[2][1])"
      ],
      "metadata": {
        "colab": {
          "base_uri": "https://localhost:8080/"
        },
        "id": "5d6bJQQtV-NS",
        "outputId": "3b858a14-1720-48f1-b8e3-9fa559593f53"
      },
      "execution_count": 103,
      "outputs": [
        {
          "output_type": "stream",
          "name": "stdout",
          "text": [
            "5\n",
            "8\n"
          ]
        }
      ]
    },
    {
      "cell_type": "code",
      "source": [
        "arr = np.array([[1,2], [2,3] , [3,4]])\n",
        "print(arr.shape)\n",
        "\n",
        "print(arr)\n",
        "\n",
        "print(arr.reshape(2,3))"
      ],
      "metadata": {
        "colab": {
          "base_uri": "https://localhost:8080/"
        },
        "id": "UE3HcsXHXJHk",
        "outputId": "eee52cca-9ddb-40dd-cc13-51f12efa3763"
      },
      "execution_count": 106,
      "outputs": [
        {
          "output_type": "stream",
          "name": "stdout",
          "text": [
            "(3, 2)\n",
            "[[1 2]\n",
            " [2 3]\n",
            " [3 4]]\n",
            "[[1 2 2]\n",
            " [3 3 4]]\n"
          ]
        }
      ]
    },
    {
      "cell_type": "code",
      "source": [
        "# Broadcasting and Vectoriazation\n",
        "a = np.array([[1,2], [3,4], [5,6]])\n",
        "print(\"array a:\\n\", a)\n",
        "\n",
        "b = np.array([1,2])\n",
        "print(\"array b:\\n\", a)\n",
        "\n",
        "c = a + b\n",
        "print(c)\n",
        "\n",
        "print(c.ndim) #Chiều của mảng"
      ],
      "metadata": {
        "colab": {
          "base_uri": "https://localhost:8080/"
        },
        "id": "sE2e2n4YXkws",
        "outputId": "d3bfbb6e-2c99-4a98-ad8d-f7475f29bb11"
      },
      "execution_count": 109,
      "outputs": [
        {
          "output_type": "stream",
          "name": "stdout",
          "text": [
            "array a:\n",
            " [[1 2]\n",
            " [3 4]\n",
            " [5 6]]\n",
            "array b:\n",
            " [[1 2]\n",
            " [3 4]\n",
            " [5 6]]\n",
            "[[2 4]\n",
            " [4 6]\n",
            " [6 8]]\n",
            "2\n"
          ]
        }
      ]
    },
    {
      "cell_type": "code",
      "source": [
        "#Stack 2 mảng với nhau\n",
        "arr1 = np.arange(10).reshape((2,-1))\n",
        "\n",
        "arr2 = np.repeat(8,10).reshape((2,-1))\n",
        "\n",
        "print(arr1)\n",
        "print(arr2)\n",
        "\n",
        "\n",
        "#method1\n",
        "new_arr = np.concatenate((arr1, arr2), axis=0)\n",
        "print(\"Concatenated array:\\n\", new_arr)\n",
        "\n",
        "#method2\n",
        "new_arr = np.vstack((arr1, arr2))\n",
        "print(\"Veritally Stack arrays: \\n\", new_arr)\n",
        "\n",
        "#method theo phương ngang\n",
        "new_arr = np.concatenate((arr1, arr2), axis=1)\n",
        "print(\"Concatenated array ngang:\\n\", new_arr)\n",
        "\n",
        "new_arr = np.hstack((arr1, arr2))\n",
        "print(\"Horizontally Stack arrays: \\n\", new_arr)"
      ],
      "metadata": {
        "colab": {
          "base_uri": "https://localhost:8080/"
        },
        "id": "kaECQAqzYtsx",
        "outputId": "472a0149-c29a-4f87-dfbd-a750a6a345cc"
      },
      "execution_count": 114,
      "outputs": [
        {
          "output_type": "stream",
          "name": "stdout",
          "text": [
            "[[0 1 2 3 4]\n",
            " [5 6 7 8 9]]\n",
            "[[8 8 8 8 8]\n",
            " [8 8 8 8 8]]\n",
            "Concatenated array:\n",
            " [[0 1 2 3 4]\n",
            " [5 6 7 8 9]\n",
            " [8 8 8 8 8]\n",
            " [8 8 8 8 8]]\n",
            "Veritally Stack arrays: \n",
            " [[0 1 2 3 4]\n",
            " [5 6 7 8 9]\n",
            " [8 8 8 8 8]\n",
            " [8 8 8 8 8]]\n",
            "Concatenated array ngang:\n",
            " [[0 1 2 3 4 8 8 8 8 8]\n",
            " [5 6 7 8 9 8 8 8 8 8]]\n",
            "Horizontally Stack arrays: \n",
            " [[0 1 2 3 4 8 8 8 8 8]\n",
            " [5 6 7 8 9 8 8 8 8 8]]\n"
          ]
        }
      ]
    },
    {
      "cell_type": "code",
      "source": [
        "arr = np.array([1,2,4,5,11,6,2,4,6,9,2,22,26,6,8,4,7])\n",
        "\n",
        "idx = np.where(arr < 7)\n",
        "print(idx)\n",
        "\n",
        "out = arr[idx]\n",
        "print(out)"
      ],
      "metadata": {
        "colab": {
          "base_uri": "https://localhost:8080/"
        },
        "id": "3mOtRGIEdb2J",
        "outputId": "423249ac-640b-423c-fdd3-16a1c152b4af"
      },
      "execution_count": 118,
      "outputs": [
        {
          "output_type": "stream",
          "name": "stdout",
          "text": [
            "(array([ 0,  1,  2,  3,  5,  6,  7,  8, 10, 13, 15]),)\n",
            "[1 2 4 5 6 2 4 6 2 6 4]\n"
          ]
        }
      ]
    },
    {
      "cell_type": "code",
      "source": [
        "arr1 = np.array([3,1,5,2,1,6,7,4,5,6]).reshape((2,-1))\n",
        "arr2 = np.arange(10).reshape((2,-1))\n",
        "\n",
        "out = np.where(arr1 > arr2, arr1, arr2)\n",
        "\n",
        "print(out)"
      ],
      "metadata": {
        "colab": {
          "base_uri": "https://localhost:8080/"
        },
        "id": "9zgnlLU3fu7g",
        "outputId": "74946284-c9aa-4d93-b73b-47bd6543cf8b"
      },
      "execution_count": 120,
      "outputs": [
        {
          "output_type": "stream",
          "name": "stdout",
          "text": [
            "[[3 1 5 3 4]\n",
            " [6 7 7 8 9]]\n"
          ]
        }
      ]
    },
    {
      "cell_type": "code",
      "source": [],
      "metadata": {
        "id": "T1fcTbIGgMhr"
      },
      "execution_count": null,
      "outputs": []
    }
  ]
}
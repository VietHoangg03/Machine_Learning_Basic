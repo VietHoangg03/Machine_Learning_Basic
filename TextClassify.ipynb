{
  "nbformat": 4,
  "nbformat_minor": 0,
  "metadata": {
    "colab": {
      "provenance": [],
      "authorship_tag": "ABX9TyNf7xjnE0cpUUtexzr/8rx6",
      "include_colab_link": true
    },
    "kernelspec": {
      "name": "python3",
      "display_name": "Python 3"
    },
    "language_info": {
      "name": "python"
    }
  },
  "cells": [
    {
      "cell_type": "markdown",
      "metadata": {
        "id": "view-in-github",
        "colab_type": "text"
      },
      "source": [
        "<a href=\"https://colab.research.google.com/github/VietHoangg03/Machine_Learning_Basic/blob/main/TextClassify.ipynb\" target=\"_parent\"><img src=\"https://colab.research.google.com/assets/colab-badge.svg\" alt=\"Open In Colab\"/></a>"
      ]
    },
    {
      "cell_type": "code",
      "execution_count": 2,
      "metadata": {
        "id": "SElA2O0ZbLyJ"
      },
      "outputs": [],
      "source": [
        "a_file = open('data.txt', 'r')"
      ]
    },
    {
      "cell_type": "code",
      "source": [
        "data = a_file.read()\n",
        "print(data)"
      ],
      "metadata": {
        "colab": {
          "base_uri": "https://localhost:8080/"
        },
        "id": "9K2eoyqld14W",
        "outputId": "8c9362e4-fda9-4a4a-f39d-1fb722a903bb"
      },
      "execution_count": 3,
      "outputs": [
        {
          "output_type": "stream",
          "name": "stdout",
          "text": [
            "Python is a high-level, interpreted, general-purpose programming language. Its design philosophy emphasizes code readability with the use of significant indentation. Python is dynamically-typed and garbage-collected.  It supports multiple programming paradigms, including structured, object-oriented and functional programming.\n"
          ]
        }
      ]
    },
    {
      "cell_type": "code",
      "source": [
        "a_file.close"
      ],
      "metadata": {
        "colab": {
          "base_uri": "https://localhost:8080/"
        },
        "id": "TH3KFnh8hwZe",
        "outputId": "9d63638f-70b1-49e6-a980-5f774339d613"
      },
      "execution_count": 4,
      "outputs": [
        {
          "output_type": "execute_result",
          "data": {
            "text/plain": [
              "<function TextIOWrapper.close()>"
            ]
          },
          "metadata": {},
          "execution_count": 4
        }
      ]
    },
    {
      "cell_type": "code",
      "source": [
        "data = data.replace('.', '')\n",
        "data = data.replace(',', '')\n",
        "data = data.replace('-', '')\n",
        "\n",
        "print(data)"
      ],
      "metadata": {
        "colab": {
          "base_uri": "https://localhost:8080/"
        },
        "id": "AGXgFPFjhy-0",
        "outputId": "8fe371c8-a91f-4163-f910-41e06f6464fd"
      },
      "execution_count": 5,
      "outputs": [
        {
          "output_type": "stream",
          "name": "stdout",
          "text": [
            "Python is a highlevel interpreted generalpurpose programming language Its design philosophy emphasizes code readability with the use of significant indentation Python is dynamicallytyped and garbagecollected  It supports multiple programming paradigms including structured objectoriented and functional programming\n"
          ]
        }
      ]
    },
    {
      "cell_type": "code",
      "source": [
        "data = data.lower()\n",
        "print(data)"
      ],
      "metadata": {
        "colab": {
          "base_uri": "https://localhost:8080/"
        },
        "id": "lGym0vuKiCZ1",
        "outputId": "38824d30-a258-40cf-fca4-b10dd4ca520c"
      },
      "execution_count": 6,
      "outputs": [
        {
          "output_type": "stream",
          "name": "stdout",
          "text": [
            "python is a highlevel interpreted generalpurpose programming language its design philosophy emphasizes code readability with the use of significant indentation python is dynamicallytyped and garbagecollected  it supports multiple programming paradigms including structured objectoriented and functional programming\n"
          ]
        }
      ]
    },
    {
      "cell_type": "code",
      "source": [
        "data = data.split()\n",
        "\n",
        "print(data)\n",
        "print(len(data))"
      ],
      "metadata": {
        "colab": {
          "base_uri": "https://localhost:8080/"
        },
        "id": "HrNmXJAgiHMV",
        "outputId": "317777a5-72a2-4593-fd7e-a2491284a636"
      },
      "execution_count": 7,
      "outputs": [
        {
          "output_type": "stream",
          "name": "stdout",
          "text": [
            "['python', 'is', 'a', 'highlevel', 'interpreted', 'generalpurpose', 'programming', 'language', 'its', 'design', 'philosophy', 'emphasizes', 'code', 'readability', 'with', 'the', 'use', 'of', 'significant', 'indentation', 'python', 'is', 'dynamicallytyped', 'and', 'garbagecollected', 'it', 'supports', 'multiple', 'programming', 'paradigms', 'including', 'structured', 'objectoriented', 'and', 'functional', 'programming']\n",
            "36\n"
          ]
        }
      ]
    },
    {
      "cell_type": "code",
      "source": [
        "data = set(data)\n",
        "print(len(data))\n",
        "print(data)"
      ],
      "metadata": {
        "colab": {
          "base_uri": "https://localhost:8080/"
        },
        "id": "g3WczZkLiPPO",
        "outputId": "68220de0-c92b-44fa-8d57-1a510e415bd4"
      },
      "execution_count": 9,
      "outputs": [
        {
          "output_type": "stream",
          "name": "stdout",
          "text": [
            "31\n",
            "{'its', 'a', 'readability', 'highlevel', 'garbagecollected', 'supports', 'use', 'functional', 'python', 'paradigms', 'with', 'emphasizes', 'dynamicallytyped', 'of', 'generalpurpose', 'programming', 'the', 'interpreted', 'and', 'design', 'philosophy', 'significant', 'code', 'it', 'language', 'multiple', 'including', 'objectoriented', 'indentation', 'is', 'structured'}\n"
          ]
        }
      ]
    },
    {
      "cell_type": "code",
      "source": [
        "for index, value in enumerate(data):\n",
        "  print(index, value)"
      ],
      "metadata": {
        "colab": {
          "base_uri": "https://localhost:8080/"
        },
        "id": "Gsqkd51-iUnC",
        "outputId": "e4adce3f-ba3d-4ca1-d6fe-868f24cdcf27"
      },
      "execution_count": 10,
      "outputs": [
        {
          "output_type": "stream",
          "name": "stdout",
          "text": [
            "0 its\n",
            "1 a\n",
            "2 readability\n",
            "3 highlevel\n",
            "4 garbagecollected\n",
            "5 supports\n",
            "6 use\n",
            "7 functional\n",
            "8 python\n",
            "9 paradigms\n",
            "10 with\n",
            "11 emphasizes\n",
            "12 dynamicallytyped\n",
            "13 of\n",
            "14 generalpurpose\n",
            "15 programming\n",
            "16 the\n",
            "17 interpreted\n",
            "18 and\n",
            "19 design\n",
            "20 philosophy\n",
            "21 significant\n",
            "22 code\n",
            "23 it\n",
            "24 language\n",
            "25 multiple\n",
            "26 including\n",
            "27 objectoriented\n",
            "28 indentation\n",
            "29 is\n",
            "30 structured\n"
          ]
        }
      ]
    },
    {
      "cell_type": "code",
      "source": [
        "dic_data = {value:index for index, value in enumerate(data)}"
      ],
      "metadata": {
        "id": "XP7CeIxvikB4"
      },
      "execution_count": 11,
      "outputs": []
    },
    {
      "cell_type": "code",
      "source": [
        "print(dic_data[\"a\"])"
      ],
      "metadata": {
        "colab": {
          "base_uri": "https://localhost:8080/"
        },
        "id": "sOFuyUaGiuwe",
        "outputId": "1c303f77-a662-4ba2-c725-12246720067f"
      },
      "execution_count": 12,
      "outputs": [
        {
          "output_type": "stream",
          "name": "stdout",
          "text": [
            "1\n"
          ]
        }
      ]
    }
  ]
}
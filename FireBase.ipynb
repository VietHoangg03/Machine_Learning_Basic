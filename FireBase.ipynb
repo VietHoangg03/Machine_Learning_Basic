{
  "nbformat": 4,
  "nbformat_minor": 0,
  "metadata": {
    "colab": {
      "provenance": [],
      "authorship_tag": "ABX9TyMFT/FRmuSruw9rsE2/BoJ8",
      "include_colab_link": true
    },
    "kernelspec": {
      "name": "python3",
      "display_name": "Python 3"
    },
    "language_info": {
      "name": "python"
    }
  },
  "cells": [
    {
      "cell_type": "markdown",
      "metadata": {
        "id": "view-in-github",
        "colab_type": "text"
      },
      "source": [
        "<a href=\"https://colab.research.google.com/github/VietHoangg03/Machine_Learning_Basic/blob/main/FireBase.ipynb\" target=\"_parent\"><img src=\"https://colab.research.google.com/assets/colab-badge.svg\" alt=\"Open In Colab\"/></a>"
      ]
    },
    {
      "cell_type": "markdown",
      "source": [
        "Firebase:\n",
        "- Hỗi trợ lưu trữ dữ liệu dạng JSON tree format\n",
        "- Hỗi trợ dữ liệu real-time data cả hai clients. Cơ chế synchronization cơ chế đồng bộ.\n",
        "- Cấu trúc đơn giản để triển khai (deloy) nhưng thì không hỗi trợ query phức tạp.\n",
        "=> Đây là fire base Realtime.\n",
        "\n",
        "Firebase Cloud Firestore:\n",
        "- Lưu trữ dạng Document giống MongoDB, hỗi trợ queri phức tạp realtime cũng có sẵn nhưng chưa được tối ưu.\n",
        "- Hoạt động cơ chế snapshot. cơ chế copy dữ liệu\n",
        "=> Tuỳ thuộc nhu cầu để chọn lựa 2 kiểu dữ liệu.\n",
        "\n",
        "Giới hạn của Firebase Realtime:\n",
        "- Không hỗi trợ truy vấn dữ liệu phức tạp.\n",
        "- Nếu data bị lỗi thì khó để sửa.\n",
        "\n",
        "Giới hạn của Firebase Cloud:\n",
        "- Viết Document 1 lần 1 giây\n",
        "- Giới hạn 20,000 trường trong 1 document\n",
        "- Mỗi document giới hạn 1 MB\n",
        "- 1G lưu trữ miễn phí và 50000 lượt viết 1 ngày, 20000 lượt đọc 1 ngày.\n",
        "\n",
        "Tổ chức database:\n",
        "- Collection\n",
        "  + Document\n",
        "      * Data (Json...)\n",
        "\n",
        "Muốn tổ chức chỉnh tru thì dử dụng Firebase Cloud Firestore.\n",
        "\n"
      ],
      "metadata": {
        "id": "yXFMaQTagdq0"
      }
    },
    {
      "cell_type": "code",
      "execution_count": 9,
      "metadata": {
        "colab": {
          "base_uri": "https://localhost:8080/"
        },
        "id": "itXwwUgIgbcQ",
        "outputId": "99ab9f7d-bb0a-4ac8-c0ca-011611461a7e"
      },
      "outputs": [
        {
          "output_type": "stream",
          "name": "stdout",
          "text": [
            "Requirement already satisfied: firebase-admin in /usr/local/lib/python3.11/dist-packages (6.9.0)\n",
            "Requirement already satisfied: cachecontrol>=0.12.14 in /usr/local/lib/python3.11/dist-packages (from firebase-admin) (0.14.3)\n",
            "Requirement already satisfied: google-api-python-client>=1.7.8 in /usr/local/lib/python3.11/dist-packages (from firebase-admin) (2.176.0)\n",
            "Requirement already satisfied: google-cloud-storage>=1.37.1 in /usr/local/lib/python3.11/dist-packages (from firebase-admin) (2.19.0)\n",
            "Requirement already satisfied: pyjwt>=2.5.0 in /usr/local/lib/python3.11/dist-packages (from pyjwt[crypto]>=2.5.0->firebase-admin) (2.10.1)\n",
            "Requirement already satisfied: httpx==0.28.1 in /usr/local/lib/python3.11/dist-packages (from httpx[http2]==0.28.1->firebase-admin) (0.28.1)\n",
            "Requirement already satisfied: google-api-core<3.0.0dev,>=1.22.1 in /usr/local/lib/python3.11/dist-packages (from google-api-core[grpc]<3.0.0dev,>=1.22.1; platform_python_implementation != \"PyPy\"->firebase-admin) (2.25.1)\n",
            "Requirement already satisfied: google-cloud-firestore>=2.19.0 in /usr/local/lib/python3.11/dist-packages (from firebase-admin) (2.21.0)\n",
            "Requirement already satisfied: anyio in /usr/local/lib/python3.11/dist-packages (from httpx==0.28.1->httpx[http2]==0.28.1->firebase-admin) (4.9.0)\n",
            "Requirement already satisfied: certifi in /usr/local/lib/python3.11/dist-packages (from httpx==0.28.1->httpx[http2]==0.28.1->firebase-admin) (2025.7.14)\n",
            "Requirement already satisfied: httpcore==1.* in /usr/local/lib/python3.11/dist-packages (from httpx==0.28.1->httpx[http2]==0.28.1->firebase-admin) (1.0.9)\n",
            "Requirement already satisfied: idna in /usr/local/lib/python3.11/dist-packages (from httpx==0.28.1->httpx[http2]==0.28.1->firebase-admin) (3.10)\n",
            "Requirement already satisfied: h2<5,>=3 in /usr/local/lib/python3.11/dist-packages (from httpx[http2]==0.28.1->firebase-admin) (4.2.0)\n",
            "Requirement already satisfied: h11>=0.16 in /usr/local/lib/python3.11/dist-packages (from httpcore==1.*->httpx==0.28.1->httpx[http2]==0.28.1->firebase-admin) (0.16.0)\n",
            "Requirement already satisfied: requests>=2.16.0 in /usr/local/lib/python3.11/dist-packages (from cachecontrol>=0.12.14->firebase-admin) (2.32.3)\n",
            "Requirement already satisfied: msgpack<2.0.0,>=0.5.2 in /usr/local/lib/python3.11/dist-packages (from cachecontrol>=0.12.14->firebase-admin) (1.1.1)\n",
            "Requirement already satisfied: googleapis-common-protos<2.0.0,>=1.56.2 in /usr/local/lib/python3.11/dist-packages (from google-api-core<3.0.0dev,>=1.22.1->google-api-core[grpc]<3.0.0dev,>=1.22.1; platform_python_implementation != \"PyPy\"->firebase-admin) (1.70.0)\n",
            "Requirement already satisfied: protobuf!=3.20.0,!=3.20.1,!=4.21.0,!=4.21.1,!=4.21.2,!=4.21.3,!=4.21.4,!=4.21.5,<7.0.0,>=3.19.5 in /usr/local/lib/python3.11/dist-packages (from google-api-core<3.0.0dev,>=1.22.1->google-api-core[grpc]<3.0.0dev,>=1.22.1; platform_python_implementation != \"PyPy\"->firebase-admin) (5.29.5)\n",
            "Requirement already satisfied: proto-plus<2.0.0,>=1.22.3 in /usr/local/lib/python3.11/dist-packages (from google-api-core<3.0.0dev,>=1.22.1->google-api-core[grpc]<3.0.0dev,>=1.22.1; platform_python_implementation != \"PyPy\"->firebase-admin) (1.26.1)\n",
            "Requirement already satisfied: google-auth<3.0.0,>=2.14.1 in /usr/local/lib/python3.11/dist-packages (from google-api-core<3.0.0dev,>=1.22.1->google-api-core[grpc]<3.0.0dev,>=1.22.1; platform_python_implementation != \"PyPy\"->firebase-admin) (2.38.0)\n",
            "Requirement already satisfied: grpcio<2.0.0,>=1.33.2 in /usr/local/lib/python3.11/dist-packages (from google-api-core[grpc]<3.0.0dev,>=1.22.1; platform_python_implementation != \"PyPy\"->firebase-admin) (1.73.1)\n",
            "Requirement already satisfied: grpcio-status<2.0.0,>=1.33.2 in /usr/local/lib/python3.11/dist-packages (from google-api-core[grpc]<3.0.0dev,>=1.22.1; platform_python_implementation != \"PyPy\"->firebase-admin) (1.71.2)\n",
            "Requirement already satisfied: httplib2<1.0.0,>=0.19.0 in /usr/local/lib/python3.11/dist-packages (from google-api-python-client>=1.7.8->firebase-admin) (0.22.0)\n",
            "Requirement already satisfied: google-auth-httplib2<1.0.0,>=0.2.0 in /usr/local/lib/python3.11/dist-packages (from google-api-python-client>=1.7.8->firebase-admin) (0.2.0)\n",
            "Requirement already satisfied: uritemplate<5,>=3.0.1 in /usr/local/lib/python3.11/dist-packages (from google-api-python-client>=1.7.8->firebase-admin) (4.2.0)\n",
            "Requirement already satisfied: google-cloud-core<3.0.0,>=1.4.1 in /usr/local/lib/python3.11/dist-packages (from google-cloud-firestore>=2.19.0->firebase-admin) (2.4.3)\n",
            "Requirement already satisfied: google-resumable-media>=2.7.2 in /usr/local/lib/python3.11/dist-packages (from google-cloud-storage>=1.37.1->firebase-admin) (2.7.2)\n",
            "Requirement already satisfied: google-crc32c<2.0dev,>=1.0 in /usr/local/lib/python3.11/dist-packages (from google-cloud-storage>=1.37.1->firebase-admin) (1.7.1)\n",
            "Requirement already satisfied: cryptography>=3.4.0 in /usr/local/lib/python3.11/dist-packages (from pyjwt[crypto]>=2.5.0->firebase-admin) (43.0.3)\n",
            "Requirement already satisfied: cffi>=1.12 in /usr/local/lib/python3.11/dist-packages (from cryptography>=3.4.0->pyjwt[crypto]>=2.5.0->firebase-admin) (1.17.1)\n",
            "Requirement already satisfied: cachetools<6.0,>=2.0.0 in /usr/local/lib/python3.11/dist-packages (from google-auth<3.0.0,>=2.14.1->google-api-core<3.0.0dev,>=1.22.1->google-api-core[grpc]<3.0.0dev,>=1.22.1; platform_python_implementation != \"PyPy\"->firebase-admin) (5.5.2)\n",
            "Requirement already satisfied: pyasn1-modules>=0.2.1 in /usr/local/lib/python3.11/dist-packages (from google-auth<3.0.0,>=2.14.1->google-api-core<3.0.0dev,>=1.22.1->google-api-core[grpc]<3.0.0dev,>=1.22.1; platform_python_implementation != \"PyPy\"->firebase-admin) (0.4.2)\n",
            "Requirement already satisfied: rsa<5,>=3.1.4 in /usr/local/lib/python3.11/dist-packages (from google-auth<3.0.0,>=2.14.1->google-api-core<3.0.0dev,>=1.22.1->google-api-core[grpc]<3.0.0dev,>=1.22.1; platform_python_implementation != \"PyPy\"->firebase-admin) (4.9.1)\n",
            "Requirement already satisfied: hyperframe<7,>=6.1 in /usr/local/lib/python3.11/dist-packages (from h2<5,>=3->httpx[http2]==0.28.1->firebase-admin) (6.1.0)\n",
            "Requirement already satisfied: hpack<5,>=4.1 in /usr/local/lib/python3.11/dist-packages (from h2<5,>=3->httpx[http2]==0.28.1->firebase-admin) (4.1.0)\n",
            "Requirement already satisfied: pyparsing!=3.0.0,!=3.0.1,!=3.0.2,!=3.0.3,<4,>=2.4.2 in /usr/local/lib/python3.11/dist-packages (from httplib2<1.0.0,>=0.19.0->google-api-python-client>=1.7.8->firebase-admin) (3.2.3)\n",
            "Requirement already satisfied: charset-normalizer<4,>=2 in /usr/local/lib/python3.11/dist-packages (from requests>=2.16.0->cachecontrol>=0.12.14->firebase-admin) (3.4.2)\n",
            "Requirement already satisfied: urllib3<3,>=1.21.1 in /usr/local/lib/python3.11/dist-packages (from requests>=2.16.0->cachecontrol>=0.12.14->firebase-admin) (2.4.0)\n",
            "Requirement already satisfied: sniffio>=1.1 in /usr/local/lib/python3.11/dist-packages (from anyio->httpx==0.28.1->httpx[http2]==0.28.1->firebase-admin) (1.3.1)\n",
            "Requirement already satisfied: typing_extensions>=4.5 in /usr/local/lib/python3.11/dist-packages (from anyio->httpx==0.28.1->httpx[http2]==0.28.1->firebase-admin) (4.14.1)\n",
            "Requirement already satisfied: pycparser in /usr/local/lib/python3.11/dist-packages (from cffi>=1.12->cryptography>=3.4.0->pyjwt[crypto]>=2.5.0->firebase-admin) (2.22)\n",
            "Requirement already satisfied: pyasn1<0.7.0,>=0.6.1 in /usr/local/lib/python3.11/dist-packages (from pyasn1-modules>=0.2.1->google-auth<3.0.0,>=2.14.1->google-api-core<3.0.0dev,>=1.22.1->google-api-core[grpc]<3.0.0dev,>=1.22.1; platform_python_implementation != \"PyPy\"->firebase-admin) (0.6.1)\n"
          ]
        }
      ],
      "source": [
        "!pip install firebase-admin"
      ]
    },
    {
      "cell_type": "code",
      "source": [
        "import firebase_admin\n",
        "from firebase_admin import credentials\n",
        "\n",
        "cred = credentials.Certificate(\"/content/aio2025-6bb26-firebase-adminsdk-fbsvc-7d8039b6cf.json\")\n",
        "\n",
        "check =firebase_admin.initialize_app(cred)\n",
        "if check:\n",
        " print(\"Đã kết nối thành công\")"
      ],
      "metadata": {
        "colab": {
          "base_uri": "https://localhost:8080/"
        },
        "id": "UEWBdqr7lb66",
        "outputId": "259c7222-8e79-485e-d6ec-81cd1dcd6f8b"
      },
      "execution_count": 3,
      "outputs": [
        {
          "output_type": "stream",
          "name": "stdout",
          "text": [
            "Đã kết nối thành công\n"
          ]
        }
      ]
    },
    {
      "cell_type": "code",
      "source": [
        "from firebase_admin import firestore\n",
        "\n",
        "firestore_db = firestore.client()\n",
        "\n",
        "if firestore_db:\n",
        "  print(\"Kết nối thành công\")"
      ],
      "metadata": {
        "colab": {
          "base_uri": "https://localhost:8080/"
        },
        "id": "05rFKBpKlqpL",
        "outputId": "a5d29faf-0bd8-4dbd-acbc-c14769d0c91d"
      },
      "execution_count": 7,
      "outputs": [
        {
          "output_type": "stream",
          "name": "stdout",
          "text": [
            "Kết nối thành công\n"
          ]
        }
      ]
    },
    {
      "cell_type": "markdown",
      "source": [
        "Ghi dữ liệu vào DB"
      ],
      "metadata": {
        "id": "rQNhU6Z_nDUV"
      }
    },
    {
      "cell_type": "code",
      "source": [
        "# Tạo collection 'products'\n",
        "products_ref = firestore_db.collection('products')\n",
        "\n",
        "\n",
        "# Thêm document với ID tự động\n",
        "doc_ref = products_ref.add({\n",
        "    'name': 'iPhone 15',\n",
        "    'price': 999,\n",
        "    'category': 'smartphone',\n",
        "    'in_stock': True,\n",
        "    'tags': ['apple', 'ios', 'phone']\n",
        "})\n",
        "print(f\"✅ Đã thêm sản phẩm với ID: {doc_ref[1].id}\")\n",
        "\n",
        "# Thêm document với ID cụ thể\n",
        "products_ref.document('product_001').set({\n",
        "    'name': 'Samsung Galaxy S24',\n",
        "    'price': 899,\n",
        "    'category': 'smartphone',\n",
        "    'in_stock': True,\n",
        "    'tags': ['samsung', 'android', 'phone']\n",
        "})\n",
        "print(\"✅ Đã thêm sản phẩm với ID: product_001\")"
      ],
      "metadata": {
        "colab": {
          "base_uri": "https://localhost:8080/"
        },
        "id": "Qn6E_bLvm50i",
        "outputId": "6201826b-2647-434a-b2b1-5b626d1ceb50"
      },
      "execution_count": 11,
      "outputs": [
        {
          "output_type": "stream",
          "name": "stdout",
          "text": [
            "✅ Đã thêm sản phẩm với ID: wEXW4QBhIX2Ai0O0Z7Oa\n",
            "✅ Đã thêm sản phẩm với ID: product_001\n"
          ]
        }
      ]
    },
    {
      "cell_type": "code",
      "source": [
        "docs = products_ref.stream()\n",
        "print(\"Tất cả sản phẩm:\")\n",
        "for doc in docs:\n",
        "    print(f\"  {doc.id}: {doc.to_dict()}\")\n"
      ],
      "metadata": {
        "colab": {
          "base_uri": "https://localhost:8080/"
        },
        "id": "XKwjjpdoohWO",
        "outputId": "a1f1a6dd-c86a-4608-973a-b6b53f96460d"
      },
      "execution_count": 12,
      "outputs": [
        {
          "output_type": "stream",
          "name": "stdout",
          "text": [
            "Tất cả sản phẩm:\n",
            "  product_001: {'price': 899, 'name': 'Samsung Galaxy S24', 'tags': ['samsung', 'android', 'phone'], 'in_stock': True, 'category': 'smartphone'}\n",
            "  wEXW4QBhIX2Ai0O0Z7Oa: {'price': 999, 'name': 'iPhone 15', 'tags': ['apple', 'ios', 'phone'], 'in_stock': True, 'category': 'smartphone'}\n"
          ]
        }
      ]
    },
    {
      "cell_type": "code",
      "source": [
        "# Đọc một document cụ thể\n",
        "doc = products_ref.document('product_001').get()\n",
        "if doc.exists:\n",
        "    print(f\"\\nSản phẩm product_001: {doc.to_dict()}\")"
      ],
      "metadata": {
        "colab": {
          "base_uri": "https://localhost:8080/"
        },
        "id": "TosvRky-oq5W",
        "outputId": "bd4ee98b-2f2d-473c-f12f-c8462be462d1"
      },
      "execution_count": 13,
      "outputs": [
        {
          "output_type": "stream",
          "name": "stdout",
          "text": [
            "\n",
            "Sản phẩm product_001: {'price': 899, 'name': 'Samsung Galaxy S24', 'tags': ['samsung', 'android', 'phone'], 'in_stock': True, 'category': 'smartphone'}\n"
          ]
        }
      ]
    },
    {
      "cell_type": "markdown",
      "source": [
        "Query dữ liệu"
      ],
      "metadata": {
        "id": "mCNTVuqMpniV"
      }
    },
    {
      "cell_type": "code",
      "source": [
        "# Tìm sản phẩm có giá > 900\n",
        "expensive_products = products_ref.where('price', '>', 900).stream()\n",
        "print(\"Sản phẩm giá > 900:\")\n",
        "for doc in expensive_products:\n",
        "    print(f\"  {doc.id}: {doc.to_dict()}\")"
      ],
      "metadata": {
        "colab": {
          "base_uri": "https://localhost:8080/"
        },
        "id": "_dC4jzj9pnWn",
        "outputId": "ab5fe227-33f3-4c90-e21d-fe96db15e1fe"
      },
      "execution_count": 14,
      "outputs": [
        {
          "output_type": "stream",
          "name": "stderr",
          "text": [
            "/usr/local/lib/python3.11/dist-packages/google/cloud/firestore_v1/base_collection.py:304: UserWarning: Detected filter using positional arguments. Prefer using the 'filter' keyword argument instead.\n",
            "  return query.where(field_path, op_string, value)\n"
          ]
        },
        {
          "output_type": "stream",
          "name": "stdout",
          "text": [
            "Sản phẩm giá > 900:\n",
            "  wEXW4QBhIX2Ai0O0Z7Oa: {'price': 999, 'name': 'iPhone 15', 'tags': ['apple', 'ios', 'phone'], 'in_stock': True, 'category': 'smartphone'}\n"
          ]
        }
      ]
    },
    {
      "cell_type": "code",
      "source": [
        "# Tìm sản phẩm theo category\n",
        "smartphones = products_ref.where('category', '==', 'smartphone').stream()\n",
        "print(\"\\nSmartphones:\")\n",
        "for doc in smartphones:\n",
        "    print(f\"  {doc.id}: {doc.to_dict()}\")"
      ],
      "metadata": {
        "colab": {
          "base_uri": "https://localhost:8080/"
        },
        "id": "mjZtMgBsptco",
        "outputId": "03485ad4-4765-4688-c439-335e04a7fad0"
      },
      "execution_count": 15,
      "outputs": [
        {
          "output_type": "stream",
          "name": "stdout",
          "text": [
            "\n",
            "Smartphones:\n",
            "  product_001: {'price': 899, 'name': 'Samsung Galaxy S24', 'tags': ['samsung', 'android', 'phone'], 'in_stock': True, 'category': 'smartphone'}\n",
            "  wEXW4QBhIX2Ai0O0Z7Oa: {'price': 999, 'name': 'iPhone 15', 'tags': ['apple', 'ios', 'phone'], 'in_stock': True, 'category': 'smartphone'}\n"
          ]
        }
      ]
    },
    {
      "cell_type": "code",
      "source": [
        "# 4. Cập nhật dữ liệu\n",
        "print(\"\\n4. Cập nhật dữ liệu:\")\n",
        "products_ref.document('product_001').update({\n",
        "    'price': 849,\n",
        "    'last_updated': firestore.SERVER_TIMESTAMP\n",
        "})\n",
        "print(\"✅ Đã cập nhật giá sản phẩm product_001\")"
      ],
      "metadata": {
        "colab": {
          "base_uri": "https://localhost:8080/"
        },
        "id": "1Ub60kRlpxZv",
        "outputId": "9aa8c0ef-d853-4bf6-dc15-849be9ffa0bc"
      },
      "execution_count": 16,
      "outputs": [
        {
          "output_type": "stream",
          "name": "stdout",
          "text": [
            "\n",
            "4. Cập nhật dữ liệu:\n",
            "✅ Đã cập nhật giá sản phẩm product_001\n"
          ]
        }
      ]
    },
    {
      "cell_type": "code",
      "source": [
        "print(\"\\n5. Tạo test:\")\n",
        "test_doc_ref = products_ref.document('test_product')\n",
        "test_doc_ref.set({'name': 'Test Product', 'temp': True})\n",
        "print(\"✅ Đã tạo test_product\")"
      ],
      "metadata": {
        "colab": {
          "base_uri": "https://localhost:8080/"
        },
        "id": "VVcwUEMQqYib",
        "outputId": "30b676cd-e65a-4d66-c721-0965acb84d0d"
      },
      "execution_count": 17,
      "outputs": [
        {
          "output_type": "stream",
          "name": "stdout",
          "text": [
            "\n",
            "5. Tạo test:\n",
            "✅ Đã tạo test_product\n"
          ]
        }
      ]
    },
    {
      "cell_type": "code",
      "source": [
        "products_ref.document('test_product').delete()\n",
        "print(\"✅ Đã xóa test_product\")"
      ],
      "metadata": {
        "colab": {
          "base_uri": "https://localhost:8080/"
        },
        "id": "O8lbYZEWqafp",
        "outputId": "284ab7d8-d775-44ed-d396-ef24e5d87bc1"
      },
      "execution_count": 18,
      "outputs": [
        {
          "output_type": "stream",
          "name": "stdout",
          "text": [
            "✅ Đã xóa test_product\n"
          ]
        }
      ]
    },
    {
      "cell_type": "code",
      "source": [
        "# Truy vấn phức tạp\n",
        "\n",
        "query = firestore_db.collection('products')\\\n",
        "    .where('in_stock', '==', True)\\\n",
        "    .where('category', '==', 'smartphone')\\\n",
        "    .where('tags', 'array_contains', 'phone')\\\n",
        "    .where('price', '<', 900)\n",
        "\n",
        "results = query.stream()\n",
        "\n",
        "for doc in results:\n",
        "    print(f\"{doc.id} => {doc.to_dict()}\")"
      ],
      "metadata": {
        "colab": {
          "base_uri": "https://localhost:8080/"
        },
        "id": "duEBQOtcqn9B",
        "outputId": "3bd3da10-1af5-4713-bb22-7eba7d23068f"
      },
      "execution_count": 20,
      "outputs": [
        {
          "output_type": "stream",
          "name": "stderr",
          "text": [
            "/usr/local/lib/python3.11/dist-packages/google/cloud/firestore_v1/base_collection.py:304: UserWarning: Detected filter using positional arguments. Prefer using the 'filter' keyword argument instead.\n",
            "  return query.where(field_path, op_string, value)\n",
            "/tmp/ipython-input-20-1671042940.py:5: UserWarning: Detected filter using positional arguments. Prefer using the 'filter' keyword argument instead.\n",
            "  .where('category', '==', 'smartphone')\\\n",
            "/tmp/ipython-input-20-1671042940.py:6: UserWarning: Detected filter using positional arguments. Prefer using the 'filter' keyword argument instead.\n",
            "  .where('tags', 'array_contains', 'phone')\\\n",
            "/tmp/ipython-input-20-1671042940.py:7: UserWarning: Detected filter using positional arguments. Prefer using the 'filter' keyword argument instead.\n",
            "  .where('price', '<', 900)\n"
          ]
        },
        {
          "output_type": "stream",
          "name": "stdout",
          "text": [
            "product_001 => {'name': 'Samsung Galaxy S24', 'price': 849, 'tags': ['samsung', 'android', 'phone'], 'in_stock': True, 'last_updated': DatetimeWithNanoseconds(2025, 7, 17, 13, 51, 25, 135000, tzinfo=datetime.timezone.utc), 'category': 'smartphone'}\n"
          ]
        }
      ]
    },
    {
      "cell_type": "markdown",
      "source": [],
      "metadata": {
        "id": "2H_Fcw94tlrd"
      }
    },
    {
      "cell_type": "code",
      "source": [
        "from sklearn.datasets import load_iris\n",
        "import pandas as pd\n",
        "import numpy as np"
      ],
      "metadata": {
        "id": "mflXHmMmr4NX"
      },
      "execution_count": 21,
      "outputs": []
    },
    {
      "cell_type": "code",
      "source": [
        "# Tải iris dataset\n",
        "iris = load_iris()\n",
        "iris_df = pd.DataFrame(iris.data, columns=iris.feature_names)\n",
        "iris_df['target'] = iris.target\n",
        "iris_df['target_name'] = iris_df['target'].map(lambda x: iris.target_names[x])\n",
        "\n",
        "print(\"Iris dataset loaded successfully!\")\n",
        "print(f\"Dataset shape: {iris_df.shape}\")\n",
        "print(\"\\nFirst 5 rows:\")\n",
        "print(iris_df.head())"
      ],
      "metadata": {
        "colab": {
          "base_uri": "https://localhost:8080/"
        },
        "id": "FUhLrMF-uM7n",
        "outputId": "55d60dfc-4b06-4203-feeb-5cc4c481cc9f"
      },
      "execution_count": 22,
      "outputs": [
        {
          "output_type": "stream",
          "name": "stdout",
          "text": [
            "Iris dataset loaded successfully!\n",
            "Dataset shape: (150, 6)\n",
            "\n",
            "First 5 rows:\n",
            "   sepal length (cm)  sepal width (cm)  petal length (cm)  petal width (cm)  \\\n",
            "0                5.1               3.5                1.4               0.2   \n",
            "1                4.9               3.0                1.4               0.2   \n",
            "2                4.7               3.2                1.3               0.2   \n",
            "3                4.6               3.1                1.5               0.2   \n",
            "4                5.0               3.6                1.4               0.2   \n",
            "\n",
            "   target target_name  \n",
            "0       0      setosa  \n",
            "1       0      setosa  \n",
            "2       0      setosa  \n",
            "3       0      setosa  \n",
            "4       0      setosa  \n"
          ]
        }
      ]
    },
    {
      "cell_type": "code",
      "source": [
        "db = firestore.client()"
      ],
      "metadata": {
        "id": "DhGHytMXufns"
      },
      "execution_count": 23,
      "outputs": []
    },
    {
      "cell_type": "code",
      "source": [
        "# Upload dữ liệu lên Firestore\n",
        "def upload_iris_to_firestore():\n",
        "    collection_name = 'iris_dataset'\n",
        "\n",
        "    # Xóa collection cũ nếu tồn tại (tùy chọn)\n",
        "    # docs = db.collection(collection_name).stream()\n",
        "    # for doc in docs:\n",
        "    #     doc.reference.delete()\n",
        "\n",
        "    batch_size = 100\n",
        "    total_records = len(iris_df)\n",
        "\n",
        "    for i in range(0, total_records, batch_size):\n",
        "        batch = db.batch()\n",
        "        batch_data = iris_df.iloc[i:i+batch_size]\n",
        "\n",
        "        for idx, row in batch_data.iterrows():\n",
        "            doc_ref = db.collection(collection_name).document(f'sample_{idx}')\n",
        "\n",
        "            # Chuyển đổi numpy types sang Python native types\n",
        "            data = {\n",
        "                'sepal_length': float(row['sepal length (cm)']),\n",
        "                'sepal_width': float(row['sepal width (cm)']),\n",
        "                'petal_length': float(row['petal length (cm)']),\n",
        "                'petal_width': float(row['petal width (cm)']),\n",
        "                'species': str(row['target_name']),\n",
        "            }\n",
        "\n",
        "            batch.set(doc_ref, data)\n",
        "\n",
        "        # Commit batch\n",
        "        batch.commit()\n",
        "        print(f\"Uploaded batch {i//batch_size + 1}: records {i+1}-{min(i+batch_size, total_records)}\")\n",
        "\n",
        "    print(f\"\\nSuccessfully uploaded {total_records} records to Firestore collection '{collection_name}'\")\n",
        "\n",
        "# Thực hiện upload\n",
        "try:\n",
        "    upload_iris_to_firestore()\n",
        "    print(\"\\n✅ Upload completed successfully!\")\n",
        "except Exception as e:\n",
        "    print(f\"❌ Error during upload: {str(e)}\")\n",
        "\n",
        "# Kiểm tra dữ liệu đã upload\n",
        "def verify_upload():\n",
        "    collection_name = 'iris_dataset'\n",
        "    docs = db.collection(collection_name).limit(5).stream()\n",
        "\n",
        "    print(\"\\nVerifying upload - First 5 documents:\")\n",
        "    for doc in docs:\n",
        "        print(f\"Document ID: {doc.id}\")\n",
        "        print(f\"Data: {doc.to_dict()}\")\n",
        "        print(\"-\" * 50)\n",
        "\n",
        "# Chạy kiểm tra\n",
        "verify_upload()\n",
        "\n",
        "# Thống kê dữ liệu đã upload\n",
        "def get_collection_stats():\n",
        "    collection_name = 'iris_dataset'\n",
        "    docs = list(db.collection(collection_name).stream())\n",
        "\n",
        "    print(f\"\\nCollection Statistics:\")\n",
        "    print(f\"Total documents: {len(docs)}\")\n",
        "\n",
        "    # Đếm theo target_name\n",
        "    target_counts = {}\n",
        "    for doc in docs:\n",
        "        data = doc.to_dict()\n",
        "        target_name = data.get('target_name', 'unknown')\n",
        "        target_counts[target_name] = target_counts.get(target_name, 0) + 1\n",
        "\n",
        "    print(f\"Distribution by species:\")\n",
        "    for species, count in target_counts.items():\n",
        "        print(f\"  {species}: {count}\")\n",
        "\n",
        "# Chạy thống kê\n",
        "get_collection_stats()"
      ],
      "metadata": {
        "colab": {
          "base_uri": "https://localhost:8080/"
        },
        "id": "BobrAJP8u3NU",
        "outputId": "b4ae19a3-bc0a-4b70-81fe-c613b936ec8c"
      },
      "execution_count": 24,
      "outputs": [
        {
          "output_type": "stream",
          "name": "stdout",
          "text": [
            "Uploaded batch 1: records 1-100\n",
            "Uploaded batch 2: records 101-150\n",
            "\n",
            "Successfully uploaded 150 records to Firestore collection 'iris_dataset'\n",
            "\n",
            "✅ Upload completed successfully!\n",
            "\n",
            "Verifying upload - First 5 documents:\n",
            "Document ID: sample_0\n",
            "Data: {'species': 'setosa', 'petal_width': 0.2, 'sepal_width': 3.5, 'petal_length': 1.4, 'sepal_length': 5.1}\n",
            "--------------------------------------------------\n",
            "Document ID: sample_1\n",
            "Data: {'species': 'setosa', 'petal_width': 0.2, 'sepal_width': 3.0, 'petal_length': 1.4, 'sepal_length': 4.9}\n",
            "--------------------------------------------------\n",
            "Document ID: sample_10\n",
            "Data: {'species': 'setosa', 'petal_width': 0.2, 'sepal_width': 3.7, 'petal_length': 1.5, 'sepal_length': 5.4}\n",
            "--------------------------------------------------\n",
            "Document ID: sample_100\n",
            "Data: {'species': 'virginica', 'petal_width': 2.5, 'sepal_width': 3.3, 'petal_length': 6.0, 'sepal_length': 6.3}\n",
            "--------------------------------------------------\n",
            "Document ID: sample_101\n",
            "Data: {'species': 'virginica', 'petal_width': 1.9, 'sepal_width': 2.7, 'petal_length': 5.1, 'sepal_length': 5.8}\n",
            "--------------------------------------------------\n",
            "\n",
            "Collection Statistics:\n",
            "Total documents: 150\n",
            "Distribution by species:\n",
            "  unknown: 150\n"
          ]
        }
      ]
    },
    {
      "cell_type": "code",
      "source": [],
      "metadata": {
        "id": "mIzR3fcz4JC4"
      },
      "execution_count": null,
      "outputs": []
    }
  ]
}
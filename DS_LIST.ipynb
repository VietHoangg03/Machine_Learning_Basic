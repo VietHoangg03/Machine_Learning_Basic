{
  "nbformat": 4,
  "nbformat_minor": 0,
  "metadata": {
    "colab": {
      "provenance": [],
      "authorship_tag": "ABX9TyM8y3WQD4haqVAB5wrDJMl6",
      "include_colab_link": true
    },
    "kernelspec": {
      "name": "python3",
      "display_name": "Python 3"
    },
    "language_info": {
      "name": "python"
    }
  },
  "cells": [
    {
      "cell_type": "markdown",
      "metadata": {
        "id": "view-in-github",
        "colab_type": "text"
      },
      "source": [
        "<a href=\"https://colab.research.google.com/github/VietHoangg03/Machine_Learning_Basic/blob/main/DS_LIST.ipynb\" target=\"_parent\"><img src=\"https://colab.research.google.com/assets/colab-badge.svg\" alt=\"Open In Colab\"/></a>"
      ]
    },
    {
      "cell_type": "markdown",
      "source": [
        "Data Structure (List, Top-K Search)\n",
        "(Delving LIST - Đào sâu LIST)\n",
        "\n"
      ],
      "metadata": {
        "id": "wlVjeuCOYZ-Z"
      }
    },
    {
      "cell_type": "code",
      "source": [
        "a_lst = [0, 6, 4, 'hello', 6, 3] #cau truc list\n",
        "print(a_lst)\n",
        "print(a_lst[2]) #in ra index thu 2 la 4\n",
        "print(a_lst[-1]) #Phan tu cuoi cung"
      ],
      "metadata": {
        "colab": {
          "base_uri": "https://localhost:8080/"
        },
        "id": "TpZT8-45Yb69",
        "outputId": "086af4be-7c4a-4422-a8fe-d6f8242c707c"
      },
      "execution_count": null,
      "outputs": [
        {
          "output_type": "stream",
          "name": "stdout",
          "text": [
            "[0, 6, 4, 'hello', 6, 3]\n",
            "4\n",
            "3\n"
          ]
        }
      ]
    },
    {
      "cell_type": "code",
      "execution_count": null,
      "metadata": {
        "colab": {
          "base_uri": "https://localhost:8080/"
        },
        "id": "CYD3EBQPVlyr",
        "outputId": "089c64a6-19ce-4948-d1ff-0ce0d960f1da"
      },
      "outputs": [
        {
          "output_type": "stream",
          "name": "stdout",
          "text": [
            "1\n",
            "2\n",
            "3\n",
            "4\n"
          ]
        }
      ],
      "source": [
        "for i in range(1,5, 1):\n",
        "  print(i)"
      ]
    },
    {
      "cell_type": "code",
      "source": [
        "# a_lst[start=0: end=4, step=1]\n",
        "print(a_lst[0:4:1]) # 0, 1, 2, 3 Lay tu 0 den end - 1"
      ],
      "metadata": {
        "colab": {
          "base_uri": "https://localhost:8080/"
        },
        "id": "BG6NCFb6cE0o",
        "outputId": "35279806-4ca5-4655-87b1-393e2cbf81e5"
      },
      "execution_count": null,
      "outputs": [
        {
          "output_type": "stream",
          "name": "stdout",
          "text": [
            "[0, 6, 4, 'hello']\n"
          ]
        }
      ]
    },
    {
      "cell_type": "code",
      "source": [
        "# Hàm LEN dem so phan tu\n",
        "print(len(a_lst)) # Hàm LEN\n",
        "print(a_lst[0:len(a_lst):1])"
      ],
      "metadata": {
        "colab": {
          "base_uri": "https://localhost:8080/"
        },
        "id": "kD5Qrfx-dIns",
        "outputId": "6e7fda44-4b2a-4634-b1dc-8a52d7aeede3"
      },
      "execution_count": null,
      "outputs": [
        {
          "output_type": "stream",
          "name": "stdout",
          "text": [
            "6\n",
            "[0, 6, 4, 'hello', 6, 3]\n"
          ]
        }
      ]
    },
    {
      "cell_type": "code",
      "source": [
        "a_list = [-1]*10 #Khai bao list mang 10 gia tri mac dinh\n",
        "print(a_list)"
      ],
      "metadata": {
        "colab": {
          "base_uri": "https://localhost:8080/"
        },
        "id": "zmS6zvV2dnT2",
        "outputId": "ccf763e7-9c97-474b-e37e-fd50961a6547"
      },
      "execution_count": null,
      "outputs": [
        {
          "output_type": "stream",
          "name": "stdout",
          "text": [
            "[-1, -1, -1, -1, -1, -1, -1, -1, -1, -1]\n"
          ]
        }
      ]
    },
    {
      "cell_type": "code",
      "source": [
        "# Ham append them vao vi tri cuoi cua list\n",
        "a_list.append(10)\n",
        "print(a_list)"
      ],
      "metadata": {
        "colab": {
          "base_uri": "https://localhost:8080/"
        },
        "id": "HnyWtoqVeXVe",
        "outputId": "0eaba9c5-ade6-4f24-ca88-4d829c264b70"
      },
      "execution_count": null,
      "outputs": [
        {
          "output_type": "stream",
          "name": "stdout",
          "text": [
            "[-1, -1, -1, -1, -1, -1, -1, -1, -1, -1, 10]\n"
          ]
        }
      ]
    },
    {
      "cell_type": "code",
      "source": [
        "data = [1,7,4]\n",
        "length = len(data)\n",
        "\n",
        "print(data[0])\n",
        "print(data[1])\n",
        "print(data[2])\n",
        "\n",
        "#Dung for de in ra list\n",
        "for i in range(length):\n",
        "  print(data[i])"
      ],
      "metadata": {
        "colab": {
          "base_uri": "https://localhost:8080/"
        },
        "id": "2ffQq6OsfcxH",
        "outputId": "21a1ffd1-7af5-415f-a9fe-dfe908854738"
      },
      "execution_count": null,
      "outputs": [
        {
          "output_type": "stream",
          "name": "stdout",
          "text": [
            "1\n",
            "7\n",
            "4\n",
            "1\n",
            "7\n",
            "4\n",
            "[1, 7, 4]\n"
          ]
        }
      ]
    },
    {
      "cell_type": "code",
      "source": [
        "#Gan all data = 1\n",
        "def set_one(data):\n",
        "  length = len(data)\n",
        "  for i in range(length):\n",
        "    data[i] = 1\n",
        "  return data\n",
        "\n",
        "print(data)\n",
        "\n",
        "result = set_one(data) #Có return thì phải có biến để hứng return\n",
        "print(result)"
      ],
      "metadata": {
        "colab": {
          "base_uri": "https://localhost:8080/"
        },
        "id": "XcX-fTiNgUJN",
        "outputId": "dd8e7f6e-6f68-4e8e-cdf0-365782edcfb0"
      },
      "execution_count": null,
      "outputs": [
        {
          "output_type": "stream",
          "name": "stdout",
          "text": [
            "[1, 7, 4]\n",
            "[1, 1, 1]\n"
          ]
        }
      ]
    },
    {
      "cell_type": "code",
      "source": [
        "#Gan all data = 1\n",
        "def set_one_1(data):\n",
        "  length = len(data)\n",
        "  for i in range(length):\n",
        "    data[i] = 1\n",
        "\n",
        "data = [1,7,4]\n",
        "print(data)\n",
        "\n",
        "set_one_1(data) #Không trả về gì thì không cần hứng, vì nếu hứng sẽ ra none do không có return\n",
        "print(data) #Cách này trả về luôn để tiếp kiện bộ nhớ"
      ],
      "metadata": {
        "colab": {
          "base_uri": "https://localhost:8080/"
        },
        "id": "EckBPZj6hLDP",
        "outputId": "7da766c9-7e29-4b4b-c489-d7483b631c42"
      },
      "execution_count": null,
      "outputs": [
        {
          "output_type": "stream",
          "name": "stdout",
          "text": [
            "[1, 7, 4]\n",
            "[1, 1, 1]\n"
          ]
        }
      ]
    },
    {
      "cell_type": "code",
      "source": [
        "#Ham append va ham insert\n",
        "data = [1,7,4]\n",
        "data.append(9)\n",
        "data.insert(0,3)\n",
        "\n",
        "print(data)"
      ],
      "metadata": {
        "colab": {
          "base_uri": "https://localhost:8080/"
        },
        "id": "O1xIlXmxiQF3",
        "outputId": "fd3aeea3-615a-49a5-d4e7-9f46416462ec"
      },
      "execution_count": null,
      "outputs": [
        {
          "output_type": "stream",
          "name": "stdout",
          "text": [
            "[3, 1, 7, 4, 9]\n"
          ]
        }
      ]
    },
    {
      "cell_type": "code",
      "source": [
        "def my_insert(data, index, value):\n",
        "  result = data[:index] + [value] + data[index:]\n",
        "  return result\n",
        "\n",
        "data = [1,7,4]\n",
        "print(data)\n",
        "\n",
        "result = my_insert(data, 1, 3)\n",
        "print(result)"
      ],
      "metadata": {
        "colab": {
          "base_uri": "https://localhost:8080/"
        },
        "id": "BiL6syL3ikm7",
        "outputId": "cedaef53-e9fa-49c7-c60a-091fccdfb8b6"
      },
      "execution_count": null,
      "outputs": [
        {
          "output_type": "stream",
          "name": "stdout",
          "text": [
            "[1, 7, 4]\n",
            "[1, 3, 7, 4]\n"
          ]
        }
      ]
    },
    {
      "cell_type": "code",
      "source": [
        "#Insert dữ liệu mới bằng hàm append\n",
        "def my_insert2(data, index, value):\n",
        "  length = len(data)\n",
        "  append_data = data[:index]\n",
        "  append_data.append(value)\n",
        "  result = append_data + data[index:]\n",
        "  return result\n",
        "\n",
        "data = [1,7,4]\n",
        "print(data)\n",
        "\n",
        "result = my_insert2(data, 1, 3)\n",
        "print(result)\n"
      ],
      "metadata": {
        "colab": {
          "base_uri": "https://localhost:8080/"
        },
        "id": "SgHiGv1wjgDk",
        "outputId": "7b801ea5-e8d0-417a-9c1d-dc46484c83a3"
      },
      "execution_count": null,
      "outputs": [
        {
          "output_type": "stream",
          "name": "stdout",
          "text": [
            "[1, 7, 4]\n",
            "[1, 3, 7, 4]\n"
          ]
        }
      ]
    },
    {
      "cell_type": "code",
      "source": [
        "#insert data sử dụng if else và append\n",
        "def my_insert3(data, index, value):\n",
        "    result = []\n",
        "\n",
        "    for i in range(len(data)):\n",
        "      if i == index:\n",
        "        result.append(value)\n",
        "        result.append(data[i])\n",
        "      else:\n",
        "        result.append(data[i])\n",
        "    return result\n",
        "\n",
        "data = [1,7,4]\n",
        "result = my_insert3(data, 2, 3)\n",
        "print(result)"
      ],
      "metadata": {
        "colab": {
          "base_uri": "https://localhost:8080/"
        },
        "id": "Wq9fpqAcvP5r",
        "outputId": "7dbc69ef-0216-431f-aea6-c6ae73a657a8"
      },
      "execution_count": null,
      "outputs": [
        {
          "output_type": "stream",
          "name": "stdout",
          "text": [
            "[1, 7, 3, 4]\n"
          ]
        }
      ]
    },
    {
      "cell_type": "code",
      "source": [
        "#Hàm pop xoá vị trí thì truyền vô index\n",
        "#Hàm remove truyền vô giá trị\n",
        "data = [1,7,4,5,6,7,2]\n",
        "data.pop(2)\n",
        "print(data)\n",
        "\n",
        "data.remove(5)\n",
        "print(data)"
      ],
      "metadata": {
        "colab": {
          "base_uri": "https://localhost:8080/"
        },
        "id": "9Rhy6cn5wGU-",
        "outputId": "1519f597-9267-423b-bdd0-928ec4227e78"
      },
      "execution_count": null,
      "outputs": [
        {
          "output_type": "stream",
          "name": "stdout",
          "text": [
            "[1, 7, 5, 6, 7, 2]\n",
            "[1, 7, 6, 7, 2]\n"
          ]
        }
      ]
    },
    {
      "cell_type": "code",
      "source": [
        "data = [1, 7, 4, 7 , 2]\n",
        "\n",
        "var = 1\n",
        "\n",
        "while True == var in data:\n",
        "  print('Hello moi nguoi')\n",
        "\n",
        "  data.remove(1)\n",
        "\n",
        "index = 0\n",
        "for item in data:\n",
        "  if item == 7:\n",
        "    print(\"found\", item)\n",
        "    break\n",
        "\n",
        "    #update\n",
        "    index = index + 1\n",
        "\n"
      ],
      "metadata": {
        "colab": {
          "base_uri": "https://localhost:8080/"
        },
        "id": "NKrR8a8cyHBR",
        "outputId": "1a7305a6-f38b-4b31-9721-9498425a9bda"
      },
      "execution_count": null,
      "outputs": [
        {
          "output_type": "stream",
          "name": "stdout",
          "text": [
            "Hello moi nguoi\n",
            "found 7\n"
          ]
        }
      ]
    },
    {
      "cell_type": "code",
      "source": [
        "#index tra ve vi tri co gia tri\n",
        "data = [1, 7, 4, 7 , 2]\n",
        "index = data.index(7)\n",
        "print(index)"
      ],
      "metadata": {
        "colab": {
          "base_uri": "https://localhost:8080/"
        },
        "id": "ZakOT9kba2Eu",
        "outputId": "fd7edf66-2b5d-49f9-9dc9-e71625bcdbb1"
      },
      "execution_count": null,
      "outputs": [
        {
          "output_type": "stream",
          "name": "stdout",
          "text": [
            "1\n"
          ]
        }
      ]
    },
    {
      "cell_type": "code",
      "source": [
        "# Hàm len(), min(), and max()\n",
        "data = [1, 3,4 , 7, 8 ,9 ]\n",
        "length = len(data)\n",
        "mint = min(data)\n",
        "maxt = max(data)\n",
        "print(length)\n",
        "print(mint)\n",
        "print(maxt)"
      ],
      "metadata": {
        "colab": {
          "base_uri": "https://localhost:8080/"
        },
        "id": "wVHU7EaDa6L1",
        "outputId": "0c300711-07ea-46c8-ef75-28c61de9ae83"
      },
      "execution_count": null,
      "outputs": [
        {
          "output_type": "stream",
          "name": "stdout",
          "text": [
            "6\n",
            "1\n",
            "9\n"
          ]
        }
      ]
    },
    {
      "cell_type": "code",
      "source": [
        "data = [1, 2, 3, 4, 4, 4, 23, 2, 9]\n",
        "\n",
        "# Tránh dùng 'sum' như một tên biến\n",
        "sum_data = sum(data)\n",
        "print(sum_data)\n"
      ],
      "metadata": {
        "colab": {
          "base_uri": "https://localhost:8080/",
          "height": 233
        },
        "id": "5vOd6qj8drSV",
        "outputId": "64abff6b-7d7d-444c-8db6-f95db2b97562"
      },
      "execution_count": null,
      "outputs": [
        {
          "output_type": "error",
          "ename": "TypeError",
          "evalue": "'int' object is not callable",
          "traceback": [
            "\u001b[0;31m---------------------------------------------------------------------------\u001b[0m",
            "\u001b[0;31mTypeError\u001b[0m                                 Traceback (most recent call last)",
            "\u001b[0;32m/tmp/ipython-input-61-3352178179.py\u001b[0m in \u001b[0;36m<cell line: 0>\u001b[0;34m()\u001b[0m\n\u001b[1;32m      2\u001b[0m \u001b[0;34m\u001b[0m\u001b[0m\n\u001b[1;32m      3\u001b[0m \u001b[0;31m# Tránh dùng 'sum' như một tên biến\u001b[0m\u001b[0;34m\u001b[0m\u001b[0;34m\u001b[0m\u001b[0m\n\u001b[0;32m----> 4\u001b[0;31m \u001b[0msum_data\u001b[0m \u001b[0;34m=\u001b[0m \u001b[0msum\u001b[0m\u001b[0;34m(\u001b[0m\u001b[0mdata\u001b[0m\u001b[0;34m)\u001b[0m\u001b[0;34m\u001b[0m\u001b[0;34m\u001b[0m\u001b[0m\n\u001b[0m\u001b[1;32m      5\u001b[0m \u001b[0mprint\u001b[0m\u001b[0;34m(\u001b[0m\u001b[0msum_data\u001b[0m\u001b[0;34m)\u001b[0m\u001b[0;34m\u001b[0m\u001b[0;34m\u001b[0m\u001b[0m\n",
            "\u001b[0;31mTypeError\u001b[0m: 'int' object is not callable"
          ]
        }
      ]
    }
  ]
}